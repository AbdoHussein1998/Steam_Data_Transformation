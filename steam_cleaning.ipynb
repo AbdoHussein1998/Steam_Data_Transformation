{
 "cells": [
  {
   "cell_type": "code",
   "execution_count": 1,
   "metadata": {},
   "outputs": [],
   "source": [
    "import pandas as pd\n",
    "import numpy as np\n",
    "import plotly.express as px\n",
    "import seaborn as sns\n",
    "import matplotlib.pyplot as plt"
   ]
  },
  {
   "cell_type": "code",
   "execution_count": 2,
   "metadata": {},
   "outputs": [],
   "source": [
    "# main setting \n",
    "pd.set_option(\"display.max_column\",None)\n",
    "pd.set_option(\"display.min_row\",90)"
   ]
  },
  {
   "cell_type": "markdown",
   "metadata": {},
   "source": [
    "# Combining the DataFrames"
   ]
  },
  {
   "cell_type": "code",
   "execution_count": 3,
   "metadata": {},
   "outputs": [],
   "source": [
    "app_list=pd.read_csv(\"app_list.csv\")\n",
    "steam_app_data=pd.read_csv(\"steam_app_data.csv\")\n",
    "steamspy_data=pd.read_csv(\"steamspy_data.csv\")\n"
   ]
  },
  {
   "cell_type": "code",
   "execution_count": 4,
   "metadata": {},
   "outputs": [],
   "source": [
    "steam_app_data.rename(columns={\"steam_appid\":\"appid\"},inplace=True)\n",
    "df=app_list.merge(steam_app_data,on=\"appid\",how=\"inner\")\n",
    "df=df.merge(steamspy_data,how=\"inner\",on=\"appid\")"
   ]
  },
  {
   "cell_type": "markdown",
   "metadata": {},
   "source": [
    "### functions will be used within the project\n"
   ]
  },
  {
   "cell_type": "code",
   "execution_count": 5,
   "metadata": {},
   "outputs": [],
   "source": [
    "def tostr(x):   # to change the return list into a string\n",
    "    if len(x)>0:\n",
    "        temp=str(x).replace(\"[\",\"\")\n",
    "        temp=temp.replace(\"]\",\"\")\n",
    "        temp=temp.replace(\"'\",\"\")\n",
    "        return temp\n",
    "    else:\n",
    "        x=\"Unkown\"\n",
    "        return x\n",
    "    \n",
    "def clean_tag(x):       # to clean tag column\n",
    "    if x!=\"Unknown\":\n",
    "        unclean_list=[]\n",
    "        clean_list=[]\n",
    "        for i in list(x.split(\",\")):\n",
    "            unclean_list.append(i.split(\":\")[0])\n",
    "        for i in unclean_list:\n",
    "            temp=i.replace(\"{\",\"\")\n",
    "            temp=temp.replace(\"'\",\"\")\n",
    "            temp=temp.replace(\" \",\"\")\n",
    "            clean_list.append(temp)\n",
    "    result=tostr(clean_list)\n",
    "    return result\n",
    "\n",
    "def clean_achievements(x): \n",
    "    unclean_list=[]\n",
    "    clean_list=[]\n",
    "    if x!=\"Unknown\":\n",
    "        for i in list(x.split(\",\")):\n",
    "            unclean_list.append(i[i.find(\"'name':\"):-1])\n",
    "        unclean_list=list(set(unclean_list))\n",
    "        unclean_list\n",
    "        for i in unclean_list:\n",
    "            temp=i.replace(\"'name': '\",\"\")\n",
    "            clean_list.append(temp)\n",
    "        clean_list=clean_list[1:]\n",
    "        result=tostr(clean_list)\n",
    "        return result\n",
    "    else:\n",
    "        return \"Unknown\"\n",
    "    \n",
    "def cleaning_with_word_description(x):\n",
    "    unclean_list=[]\n",
    "    clean_list=[]\n",
    "    if x!= \"Unknown\":\n",
    "        for i in list(x.split(\",\")):\n",
    "            unclean_list.append(i[i.find(\"'description'\"):-1])\n",
    "        for i in unclean_list:\n",
    "            temp=i.replace(\"description': '\",\"\")\n",
    "            temp=temp.replace(\"'\",\"\")\n",
    "            temp=temp.replace(\"}\",\"\")\n",
    "            clean_list.append(temp)\n",
    "        clean_list=list(set(clean_list))[1:]\n",
    "        \n",
    "    result=tostr(clean_list)\n",
    "    return result"
   ]
  },
  {
   "cell_type": "markdown",
   "metadata": {},
   "source": [
    "# exploring the columns"
   ]
  },
  {
   "cell_type": "code",
   "execution_count": 6,
   "metadata": {},
   "outputs": [
    {
     "name": "stdout",
     "output_type": "stream",
     "text": [
      "<class 'pandas.core.frame.DataFrame'>\n",
      "RangeIndex: 29233 entries, 0 to 29232\n",
      "Data columns (total 59 columns):\n",
      " #   Column                   Non-Null Count  Dtype  \n",
      "---  ------                   --------------  -----  \n",
      " 0   appid                    29233 non-null  int64  \n",
      " 1   name_x                   29228 non-null  object \n",
      " 2   type                     29084 non-null  object \n",
      " 3   name_y                   29232 non-null  object \n",
      " 4   required_age             29084 non-null  float64\n",
      " 5   is_free                  29084 non-null  object \n",
      " 6   controller_support       5998 non-null   object \n",
      " 7   dlc                      4975 non-null   object \n",
      " 8   detailed_description     29058 non-null  object \n",
      " 9   about_the_game           29058 non-null  object \n",
      " 10  short_description        29058 non-null  object \n",
      " 11  fullgame                 0 non-null      float64\n",
      " 12  supported_languages      29070 non-null  object \n",
      " 13  header_image             29084 non-null  object \n",
      " 14  website                  19250 non-null  object \n",
      " 15  pc_requirements          29084 non-null  object \n",
      " 16  mac_requirements         29084 non-null  object \n",
      " 17  linux_requirements       29084 non-null  object \n",
      " 18  legal_notice             10066 non-null  object \n",
      " 19  drm_notice               158 non-null    object \n",
      " 20  ext_user_account_notice  512 non-null    object \n",
      " 21  developers               28969 non-null  object \n",
      " 22  publishers               29084 non-null  object \n",
      " 23  demos                    2139 non-null   object \n",
      " 24  price_overview           25521 non-null  object \n",
      " 25  packages                 25863 non-null  object \n",
      " 26  package_groups           29084 non-null  object \n",
      " 27  platforms                29084 non-null  object \n",
      " 28  metacritic               2981 non-null   object \n",
      " 29  reviews                  5905 non-null   object \n",
      " 30  categories               28519 non-null  object \n",
      " 31  genres                   29037 non-null  object \n",
      " 32  screenshots              29056 non-null  object \n",
      " 33  movies                   27157 non-null  object \n",
      " 34  recommendations          6728 non-null   object \n",
      " 35  achievements             26852 non-null  object \n",
      " 36  release_date             29084 non-null  object \n",
      " 37  support_info             29084 non-null  object \n",
      " 38  background               29056 non-null  object \n",
      " 39  content_descriptors      29084 non-null  object \n",
      " 40  name                     29228 non-null  object \n",
      " 41  developer                29035 non-null  object \n",
      " 42  publisher                28937 non-null  object \n",
      " 43  score_rank               58 non-null     float64\n",
      " 44  positive                 29233 non-null  int64  \n",
      " 45  negative                 29233 non-null  int64  \n",
      " 46  userscore                29233 non-null  int64  \n",
      " 47  owners                   29233 non-null  object \n",
      " 48  average_forever          29233 non-null  int64  \n",
      " 49  average_2weeks           29233 non-null  int64  \n",
      " 50  median_forever           29233 non-null  int64  \n",
      " 51  median_2weeks            29233 non-null  int64  \n",
      " 52  price                    29204 non-null  float64\n",
      " 53  initialprice             29211 non-null  float64\n",
      " 54  discount                 29211 non-null  float64\n",
      " 55  languages                29139 non-null  object \n",
      " 56  genre                    29081 non-null  object \n",
      " 57  ccu                      29233 non-null  int64  \n",
      " 58  tags                     29233 non-null  object \n",
      "dtypes: float64(6), int64(9), object(44)\n",
      "memory usage: 13.2+ MB\n"
     ]
    }
   ],
   "source": [
    "df.info()"
   ]
  },
  {
   "cell_type": "code",
   "execution_count": 7,
   "metadata": {},
   "outputs": [
    {
     "data": {
      "text/plain": [
       "appid                          0\n",
       "name_x                         5\n",
       "type                         149\n",
       "name_y                         1\n",
       "required_age                 149\n",
       "is_free                      149\n",
       "controller_support         23235\n",
       "dlc                        24258\n",
       "detailed_description         175\n",
       "about_the_game               175\n",
       "short_description            175\n",
       "fullgame                   29233\n",
       "supported_languages          163\n",
       "header_image                 149\n",
       "website                     9983\n",
       "pc_requirements              149\n",
       "mac_requirements             149\n",
       "linux_requirements           149\n",
       "legal_notice               19167\n",
       "drm_notice                 29075\n",
       "ext_user_account_notice    28721\n",
       "developers                   264\n",
       "publishers                   149\n",
       "demos                      27094\n",
       "price_overview              3712\n",
       "packages                    3370\n",
       "package_groups               149\n",
       "platforms                    149\n",
       "metacritic                 26252\n",
       "reviews                    23328\n",
       "categories                   714\n",
       "genres                       196\n",
       "screenshots                  177\n",
       "movies                      2076\n",
       "recommendations            22505\n",
       "achievements                2381\n",
       "release_date                 149\n",
       "support_info                 149\n",
       "background                   177\n",
       "content_descriptors          149\n",
       "name                           5\n",
       "developer                    198\n",
       "publisher                    296\n",
       "score_rank                 29175\n",
       "positive                       0\n",
       "negative                       0\n",
       "userscore                      0\n",
       "owners                         0\n",
       "average_forever                0\n",
       "average_2weeks                 0\n",
       "median_forever                 0\n",
       "median_2weeks                  0\n",
       "price                         29\n",
       "initialprice                  22\n",
       "discount                      22\n",
       "languages                     94\n",
       "genre                        152\n",
       "ccu                            0\n",
       "tags                           0\n",
       "dtype: int64"
      ]
     },
     "execution_count": 7,
     "metadata": {},
     "output_type": "execute_result"
    }
   ],
   "source": [
    "df.isna().sum() "
   ]
  },
  {
   "cell_type": "code",
   "execution_count": 8,
   "metadata": {},
   "outputs": [
    {
     "data": {
      "text/plain": [
       "Index(['appid', 'name_x', 'type', 'name_y', 'required_age', 'is_free',\n",
       "       'controller_support', 'dlc', 'detailed_description', 'about_the_game',\n",
       "       'short_description', 'fullgame', 'supported_languages', 'header_image',\n",
       "       'website', 'pc_requirements', 'mac_requirements', 'linux_requirements',\n",
       "       'legal_notice', 'drm_notice', 'ext_user_account_notice', 'developers',\n",
       "       'publishers', 'demos', 'price_overview', 'packages', 'package_groups',\n",
       "       'platforms', 'metacritic', 'reviews', 'categories', 'genres',\n",
       "       'screenshots', 'movies', 'recommendations', 'achievements',\n",
       "       'release_date', 'support_info', 'background', 'content_descriptors',\n",
       "       'name', 'developer', 'publisher', 'score_rank', 'positive', 'negative',\n",
       "       'userscore', 'owners', 'average_forever', 'average_2weeks',\n",
       "       'median_forever', 'median_2weeks', 'price', 'initialprice', 'discount',\n",
       "       'languages', 'genre', 'ccu', 'tags'],\n",
       "      dtype='object')"
      ]
     },
     "execution_count": 8,
     "metadata": {},
     "output_type": "execute_result"
    }
   ],
   "source": [
    "df.columns"
   ]
  },
  {
   "cell_type": "markdown",
   "metadata": {},
   "source": [
    "##### selecting the requiured columns"
   ]
  },
  {
   "cell_type": "code",
   "execution_count": 9,
   "metadata": {},
   "outputs": [],
   "source": [
    "df=df[['appid', 'name_x', 'type','is_free','supported_languages','developers','publishers','platforms', 'metacritic','categories', 'genres','achievements','release_date',\"genre\",'tags','price_overview']]"
   ]
  },
  {
   "cell_type": "markdown",
   "metadata": {},
   "source": [
    "# Cleaning and Extracting data from selected columns"
   ]
  },
  {
   "cell_type": "code",
   "execution_count": 10,
   "metadata": {},
   "outputs": [],
   "source": [
    "df.fillna(\"Unknown\",inplace=True)\n",
    "df.rename(columns={\"name_x\":\"name\"},inplace=True)"
   ]
  },
  {
   "cell_type": "code",
   "execution_count": 11,
   "metadata": {},
   "outputs": [],
   "source": [
    "df[\"release_date\"]=df[\"release_date\"].str.split(\":\",expand=True)[2].str.replace(\"}\",\" \")\n",
    "df[\"release_date\"]=df[\"release_date\"].str.replace(\"'\",\" \")\n",
    "df[\"release_date\"]=df[\"release_date\"].str.strip()\n",
    "df[\"release_date\"]=pd.to_datetime(df[\"release_date\"],format=\"%d %b, %Y\",errors='coerce')"
   ]
  },
  {
   "cell_type": "code",
   "execution_count": 12,
   "metadata": {},
   "outputs": [],
   "source": [
    "df['price_overview'].str.split(\",\",expand=True)\n",
    "df['price_overview'].str.split(\",\",expand=True)[1].str.split(\":\",expand=True)[1].str.strip()\n",
    "initial_price=df['price_overview'].str.split(\",\",expand=True)[1].str.split(\":\",expand=True)[1].str.strip()\n",
    "initial_price.str[0:-2]+ \".\"+initial_price.str[-2:]\n",
    "df[\"initial_price\"]=initial_price.str[0:-2]+ \".\"+initial_price.str[-2:]\n",
    "\n",
    "######\n",
    "\n",
    "final_price=df['price_overview'].str.split(\",\",expand=True)[2].str.split(\":\",expand=True)[1]\n",
    "df[\"final_price\"]=final_price.str[:-2] + \".\" +final_price.str[-2:]\n",
    "\n",
    "\n",
    "####\n",
    "\n",
    "df.drop(columns=\"price_overview\",inplace=True)"
   ]
  },
  {
   "cell_type": "code",
   "execution_count": 13,
   "metadata": {},
   "outputs": [],
   "source": [
    "df['supported_languages']=df['supported_languages'].str.split(\"<\",expand=True)[0]"
   ]
  },
  {
   "cell_type": "code",
   "execution_count": 14,
   "metadata": {},
   "outputs": [],
   "source": [
    "df[\"developers\"]=df[\"developers\"].str.replace(\"]\",\" \")\n",
    "df[\"developers\"]=df[\"developers\"].str.replace(\"[\",\" \")\n",
    "df[\"developers\"]=df[\"developers\"].str.replace(\"'\",\" \")\n",
    "df[\"developers\"]=df[\"developers\"].str.strip()\n"
   ]
  },
  {
   "cell_type": "code",
   "execution_count": 15,
   "metadata": {},
   "outputs": [],
   "source": [
    "df[\"publishers\"]=df[\"publishers\"].str.replace(\"]\",\" \")\n",
    "df[\"publishers\"]=df[\"publishers\"].str.replace(\"[\",\" \")\n",
    "df[\"publishers\"]=df[\"publishers\"].str.replace(\"'\",\" \")\n",
    "df[\"publishers\"]=df[\"publishers\"].str.strip()\n"
   ]
  },
  {
   "cell_type": "code",
   "execution_count": 16,
   "metadata": {},
   "outputs": [],
   "source": [
    "temp=df[\"platforms\"].str.split(\",\",expand=True)[1]\n",
    "mac_mask=temp.str.split(\":\",expand=True)[1]\n",
    "df[\"OS_mac\"]=mac_mask.str.strip()\n",
    "\n",
    "temp=df[\"platforms\"].str.split(\",\",expand=True)[2]\n",
    "linux_mask=temp.str.split(\":\",expand=True)[1].str.replace(\"}\",\" \")\n",
    "df[\"OS_linux\"]=linux_mask.str.strip()\n",
    "\n",
    "temp=df[\"platforms\"].str.split(\",\",expand=True)[0]\n",
    "win_mask=temp.str.split(\":\",expand=True)[1]\n",
    "df[\"OS_windows\"]=win_mask.str.strip()\n",
    "\n",
    "\n",
    "df.drop(columns=\"platforms\",inplace=True)"
   ]
  },
  {
   "cell_type": "code",
   "execution_count": 17,
   "metadata": {},
   "outputs": [],
   "source": [
    "df[\"genres\"]=df[\"genres\"].apply(cleaning_with_word_description)\n",
    "df[\"categories\"]=df[\"categories\"].apply(cleaning_with_word_description)\n",
    "df[\"achievements\"]=df[\"achievements\"].apply(clean_achievements)\n",
    "df[\"tags\"]=df[\"tags\"].apply(clean_tag)\n",
    "df[\"release_date\"]=pd.to_datetime(df[\"release_date\"])"
   ]
  },
  {
   "cell_type": "code",
   "execution_count": 18,
   "metadata": {},
   "outputs": [],
   "source": [
    "df.metacritic=df.metacritic.apply(lambda x : x[9:13] if x != \"Unknown\" else x)\n",
    "# Note: i didn't use from 10:12 becasue probably there is a game with 100 score -like mario :)\n",
    "df.metacritic=df.metacritic.str.strip()\n",
    "df.metacritic=df.metacritic.str.replace(\",\",\"\")\n",
    "df.metacritic=df.metacritic.apply(lambda x : float(x) if x != \"Unknown\" else np.nan)"
   ]
  },
  {
   "cell_type": "code",
   "execution_count": 19,
   "metadata": {},
   "outputs": [
    {
     "data": {
      "text/html": [
       "<div>\n",
       "<style scoped>\n",
       "    .dataframe tbody tr th:only-of-type {\n",
       "        vertical-align: middle;\n",
       "    }\n",
       "\n",
       "    .dataframe tbody tr th {\n",
       "        vertical-align: top;\n",
       "    }\n",
       "\n",
       "    .dataframe thead th {\n",
       "        text-align: right;\n",
       "    }\n",
       "</style>\n",
       "<table border=\"1\" class=\"dataframe\">\n",
       "  <thead>\n",
       "    <tr style=\"text-align: right;\">\n",
       "      <th></th>\n",
       "      <th>appid</th>\n",
       "      <th>name</th>\n",
       "      <th>type</th>\n",
       "      <th>is_free</th>\n",
       "      <th>supported_languages</th>\n",
       "      <th>developers</th>\n",
       "      <th>publishers</th>\n",
       "      <th>metacritic</th>\n",
       "      <th>categories</th>\n",
       "      <th>genres</th>\n",
       "      <th>achievements</th>\n",
       "      <th>release_date</th>\n",
       "      <th>genre</th>\n",
       "      <th>tags</th>\n",
       "      <th>initial_price</th>\n",
       "      <th>final_price</th>\n",
       "      <th>OS_mac</th>\n",
       "      <th>OS_linux</th>\n",
       "      <th>OS_windows</th>\n",
       "    </tr>\n",
       "  </thead>\n",
       "  <tbody>\n",
       "    <tr>\n",
       "      <th>0</th>\n",
       "      <td>10</td>\n",
       "      <td>Counter-Strike</td>\n",
       "      <td>game</td>\n",
       "      <td>False</td>\n",
       "      <td>English</td>\n",
       "      <td>Valve</td>\n",
       "      <td>Valve</td>\n",
       "      <td>88.0</td>\n",
       "      <td>Online Multi-Player, Local Multi-Player, Multi...</td>\n",
       "      <td>Action</td>\n",
       "      <td>Unkown</td>\n",
       "      <td>2000-11-01</td>\n",
       "      <td>Action</td>\n",
       "      <td>Action, FPS, Multiplayer, Shooter, Classic, Te...</td>\n",
       "      <td>7.19</td>\n",
       "      <td>7.19</td>\n",
       "      <td>True</td>\n",
       "      <td>True</td>\n",
       "      <td>True</td>\n",
       "    </tr>\n",
       "    <tr>\n",
       "      <th>1</th>\n",
       "      <td>20</td>\n",
       "      <td>Team Fortress Classic</td>\n",
       "      <td>game</td>\n",
       "      <td>False</td>\n",
       "      <td>English, French, German, Italian, Spanish - Sp...</td>\n",
       "      <td>Valve</td>\n",
       "      <td>Valve</td>\n",
       "      <td>NaN</td>\n",
       "      <td>Online Multi-Player, Local Multi-Player, Multi...</td>\n",
       "      <td>Action</td>\n",
       "      <td>Unkown</td>\n",
       "      <td>1999-04-01</td>\n",
       "      <td>Action</td>\n",
       "      <td>Action, FPS, Multiplayer, Classic, Shooter, Cl...</td>\n",
       "      <td>3.99</td>\n",
       "      <td>3.99</td>\n",
       "      <td>True</td>\n",
       "      <td>True</td>\n",
       "      <td>True</td>\n",
       "    </tr>\n",
       "    <tr>\n",
       "      <th>2</th>\n",
       "      <td>30</td>\n",
       "      <td>Day of Defeat</td>\n",
       "      <td>game</td>\n",
       "      <td>False</td>\n",
       "      <td>English, French, German, Italian, Spanish - Spain</td>\n",
       "      <td>Valve</td>\n",
       "      <td>Valve</td>\n",
       "      <td>79.0</td>\n",
       "      <td>Multi-player, Valve Anti-Cheat enabled</td>\n",
       "      <td>Action</td>\n",
       "      <td>Unkown</td>\n",
       "      <td>2003-05-01</td>\n",
       "      <td>Action</td>\n",
       "      <td>FPS, WorldWarII, Multiplayer, Action, Shooter,...</td>\n",
       "      <td>3.99</td>\n",
       "      <td>3.99</td>\n",
       "      <td>True</td>\n",
       "      <td>True</td>\n",
       "      <td>True</td>\n",
       "    </tr>\n",
       "  </tbody>\n",
       "</table>\n",
       "</div>"
      ],
      "text/plain": [
       "   appid                   name  type is_free  \\\n",
       "0     10         Counter-Strike  game   False   \n",
       "1     20  Team Fortress Classic  game   False   \n",
       "2     30          Day of Defeat  game   False   \n",
       "\n",
       "                                 supported_languages developers publishers  \\\n",
       "0                                            English      Valve      Valve   \n",
       "1  English, French, German, Italian, Spanish - Sp...      Valve      Valve   \n",
       "2  English, French, German, Italian, Spanish - Spain      Valve      Valve   \n",
       "\n",
       "   metacritic                                         categories  genres  \\\n",
       "0        88.0  Online Multi-Player, Local Multi-Player, Multi...  Action   \n",
       "1         NaN  Online Multi-Player, Local Multi-Player, Multi...  Action   \n",
       "2        79.0             Multi-player, Valve Anti-Cheat enabled  Action   \n",
       "\n",
       "  achievements release_date   genre  \\\n",
       "0       Unkown   2000-11-01  Action   \n",
       "1       Unkown   1999-04-01  Action   \n",
       "2       Unkown   2003-05-01  Action   \n",
       "\n",
       "                                                tags initial_price  \\\n",
       "0  Action, FPS, Multiplayer, Shooter, Classic, Te...          7.19   \n",
       "1  Action, FPS, Multiplayer, Classic, Shooter, Cl...          3.99   \n",
       "2  FPS, WorldWarII, Multiplayer, Action, Shooter,...          3.99   \n",
       "\n",
       "  final_price OS_mac OS_linux OS_windows  \n",
       "0        7.19   True     True       True  \n",
       "1        3.99   True     True       True  \n",
       "2        3.99   True     True       True  "
      ]
     },
     "execution_count": 19,
     "metadata": {},
     "output_type": "execute_result"
    }
   ],
   "source": [
    "df.head(3)"
   ]
  },
  {
   "cell_type": "code",
   "execution_count": 21,
   "metadata": {},
   "outputs": [],
   "source": [
    "df.to_csv(\"cleaned_data.csv\")"
   ]
  },
  {
   "cell_type": "code",
   "execution_count": null,
   "metadata": {},
   "outputs": [],
   "source": []
  }
 ],
 "metadata": {
  "kernelspec": {
   "display_name": "Python 3",
   "language": "python",
   "name": "python3"
  },
  "language_info": {
   "codemirror_mode": {
    "name": "ipython",
    "version": 3
   },
   "file_extension": ".py",
   "mimetype": "text/x-python",
   "name": "python",
   "nbconvert_exporter": "python",
   "pygments_lexer": "ipython3",
   "version": "3.10.9"
  }
 },
 "nbformat": 4,
 "nbformat_minor": 2
}
